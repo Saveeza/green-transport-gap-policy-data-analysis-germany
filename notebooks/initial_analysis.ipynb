{
 "cells": [
  {
   "cell_type": "markdown",
   "id": "adcf7ef1",
   "metadata": {},
   "source": [
    "# 📊 Green Transport Gap & Policy Analysis - Germany\n",
    "### ✅ Advanced multi-layer data & policy analysis notebook\n",
    "**Author:** Saveeza"
   ]
  },
  {
   "cell_type": "code",
   "execution_count": null,
   "id": "50948982",
   "metadata": {},
   "outputs": [],
   "source": [
    "import pandas as pd\n",
    "import numpy as np\n",
    "import matplotlib.pyplot as plt\n",
    "import seaborn as sns\n",
    "import plotly.express as px\n",
    "sns.set(style=\"whitegrid\", font_scale=1.2)"
   ]
  },
  {
   "cell_type": "code",
   "execution_count": null,
   "id": "55d61b31",
   "metadata": {},
   "outputs": [],
   "source": [
    "# 📥 Load data\n",
    "df_emissions = pd.read_csv(\"../data/transport_emissions.csv\")\n",
    "df_modal = pd.read_csv(\"../data/modal_share.csv\")\n",
    "df_charging = pd.read_csv(\"../data/charging_network.csv\")\n",
    "df_policy = pd.read_csv(\"../data/policy_gap_matrix.csv\")"
   ]
  },
  {
   "cell_type": "code",
   "execution_count": null,
   "id": "ad96818a",
   "metadata": {},
   "outputs": [],
   "source": [
    "# --- 📈 Emissions Trend ---\n",
    "plt.figure(figsize=(12,6))\n",
    "plt.plot(df_emissions['Year'], df_emissions['Germany_Emissions_CO2_Mt'], marker='o', label='Actual Emissions')\n",
    "plt.plot(df_emissions['Year'], df_emissions['Climate_Target_CO2_Mt'], marker='x', linestyle='--', label='Climate Target')\n",
    "plt.fill_between(df_emissions['Year'],\n",
    "                 df_emissions['Germany_Emissions_CO2_Mt'],\n",
    "                 df_emissions['Climate_Target_CO2_Mt'],\n",
    "                 color='red', alpha=0.1, label='Gap')\n",
    "plt.title('Germany Transport CO₂ Emissions vs Climate Target')\n",
    "plt.ylabel('Mt CO₂')\n",
    "plt.legend()\n",
    "plt.tight_layout()\n",
    "plt.show()"
   ]
  },
  {
   "cell_type": "code",
   "execution_count": null,
   "id": "54d67879",
   "metadata": {},
   "outputs": [],
   "source": [
    "# --- 🚲 Modal Share Change ---\n",
    "x = np.arange(len(df_modal['Mode']))\n",
    "width = 0.3\n",
    "plt.figure(figsize=(10,6))\n",
    "plt.bar(x - width/2, df_modal['2020_Share_%'], width, label='2020')\n",
    "plt.bar(x + width/2, df_modal['2023_Share_%'], width, label='2023')\n",
    "plt.xticks(x, df_modal['Mode'])\n",
    "plt.ylabel('Share (%)')\n",
    "plt.title('Modal Share Shift: Cars, Rail, Bus, Bike, Other')\n",
    "plt.legend()\n",
    "plt.tight_layout()\n",
    "plt.show()"
   ]
  },
  {
   "cell_type": "code",
   "execution_count": null,
   "id": "34f01f23",
   "metadata": {},
   "outputs": [],
   "source": [
    "# --- 🔋 EV Charging vs Freight Emissions ---\n",
    "plt.figure(figsize=(10,6))\n",
    "sns.scatterplot(x='EV_Charging_Points', y='Freight_Emissions_CO2_Mt', data=df_charging, s=100, color='green')\n",
    "plt.title('EV Charging Rollout vs Freight CO₂ Emissions')\n",
    "plt.xlabel('EV Charging Points')\n",
    "plt.ylabel('Freight Emissions (Mt)')\n",
    "plt.tight_layout()\n",
    "plt.show()"
   ]
  },
  {
   "cell_type": "code",
   "execution_count": null,
   "id": "812e873b",
   "metadata": {},
   "outputs": [],
   "source": [
    "# --- 🧮 Correlation Matrix ---\n",
    "corr_df = pd.DataFrame({\n",
    "    'Emissions_Gap': df_emissions['Germany_Emissions_CO2_Mt'] - df_emissions['Climate_Target_CO2_Mt'],\n",
    "    'EV_Charging_Points': np.pad(df_charging['EV_Charging_Points'].values, (0, len(df_emissions)-len(df_charging)), constant_values=np.nan),\n",
    "})\n",
    "corr_matrix = corr_df.corr()\n",
    "sns.heatmap(corr_matrix, annot=True, cmap='coolwarm')\n",
    "plt.title('Correlation Matrix')\n",
    "plt.tight_layout()\n",
    "plt.show()"
   ]
  },
  {
   "cell_type": "code",
   "execution_count": null,
   "id": "0a1eef2f",
   "metadata": {},
   "outputs": [],
   "source": [
    "# --- 🕸 Policy Gap Radar ---\n",
    "labels = df_policy['Policy_Dimension']\n",
    "eu_scores = df_policy['EU_Target_Score'].values\n",
    "de_scores = df_policy['Germany_Score'].values\n",
    "angles = np.linspace(0, 2*np.pi, len(labels), endpoint=False).tolist()\n",
    "angles += angles[:1]\n",
    "eu_scores = np.concatenate((eu_scores, [eu_scores[0]]))\n",
    "de_scores = np.concatenate((de_scores, [de_scores[0]]))\n",
    "fig, ax = plt.subplots(figsize=(6,6), subplot_kw=dict(polar=True))\n",
    "ax.plot(angles, eu_scores, label='EU Target', color='blue', linewidth=2)\n",
    "ax.fill(angles, eu_scores, alpha=0.1, color='blue')\n",
    "ax.plot(angles, de_scores, label='Germany', color='red', linewidth=2)\n",
    "ax.fill(angles, de_scores, alpha=0.1, color='red')\n",
    "ax.set_thetagrids(np.degrees(angles[:-1]), labels)\n",
    "plt.title('Policy Gaps: Germany vs EU')\n",
    "plt.legend(loc='upper right')\n",
    "plt.tight_layout()\n",
    "plt.show()"
   ]
  },
  {
   "cell_type": "code",
   "execution_count": null,
   "id": "df4bf143",
   "metadata": {},
   "outputs": [],
   "source": [
    "# --- ✅ Conclusion ---\n",
    "print(\"\"\"\n",
    "✅ Conclusion & Recommendations:\n",
    "- Persistent emission gaps → high policy & reputational risk.\n",
    "- Limited modal shift → targeted incentives needed.\n",
    "- Freight decarbonization slow → invest in rail & zero-emission trucks.\n",
    "- Close gaps in urban mobility & public investment.\n",
    "- Link policy to measurable KPIs → avoid transition greenwashing.\n",
    "\"\"\")"
   ]
  }
 ],
 "metadata": {},
 "nbformat": 4,
 "nbformat_minor": 5
}
